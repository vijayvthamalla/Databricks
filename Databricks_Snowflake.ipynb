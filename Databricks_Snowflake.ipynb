{
 "cells": [
  {
   "cell_type": "markdown",
   "metadata": {
    "application/vnd.databricks.v1+cell": {
     "cellMetadata": {},
     "inputWidgets": {},
     "nuid": "1037f07e-72a5-41a6-be9b-26ffa3817c6f",
     "showTitle": false,
     "title": ""
    }
   },
   "source": [
    "#### Intro\n",
    "We will look at how we can connect to Snowflake from Databricks using Snowflake connector in Databricks.\n",
    "\n",
    "Snowflake is widely used data warehouse platform and Databricks is a Data Lakehouse Platform. Since we can directly perform Big Data Analytics on Databricks there can be a time, we might need to know how to connect from Databricks to Snowflake.\n",
    "\n",
    "Also we will read data from a dummy table and see how to write data to snowflake table.\n",
    "\n",
    "I'm using **Databricks community edition** so I cannot use secrets, instead I have loaded all secrets in a different and run that file from here\n",
    "\n",
    "Skeleton of Secrets file:\n",
    "\n",
    "options = {\n",
    "\n",
    "    \"sfUrl\":\"url\",\n",
    "\n",
    "    \"sfUser\":\"username\",\n",
    "\n",
    "    \"sfPassword\":\"password\",\n",
    "\n",
    "    \"sfDatabase\":\"database name\",\n",
    "\n",
    "    \"sfSchema\":\"schema name\",\n",
    "\n",
    "    \"sfWarehouse\":\"warehouse name\",\n",
    "\n",
    "    }\n",
    "\n",
    "once you load all these options in a Secrets notebook separately in the same folder level, you can proceed to run following code\n",
    "\n",
    "**You can utilize free Snowflake trial account to generate all these details**"
   ]
  },
  {
   "cell_type": "code",
   "execution_count": 0,
   "metadata": {
    "application/vnd.databricks.v1+cell": {
     "cellMetadata": {
      "byteLimit": 2048000,
      "rowLimit": 10000
     },
     "inputWidgets": {},
     "nuid": "0db96d46-f96a-4f75-8ad2-e2c20cff3086",
     "showTitle": false,
     "title": ""
    }
   },
   "outputs": [],
   "source": [
    "%run ./Secrets"
   ]
  },
  {
   "cell_type": "markdown",
   "metadata": {
    "application/vnd.databricks.v1+cell": {
     "cellMetadata": {
      "byteLimit": 2048000,
      "rowLimit": 10000
     },
     "inputWidgets": {},
     "nuid": "aff37083-2667-4e5d-bab3-e625079989bb",
     "showTitle": false,
     "title": ""
    }
   },
   "source": [
    "#### Read"
   ]
  },
  {
   "cell_type": "code",
   "execution_count": 0,
   "metadata": {
    "application/vnd.databricks.v1+cell": {
     "cellMetadata": {
      "byteLimit": 2048000,
      "rowLimit": 10000
     },
     "inputWidgets": {},
     "nuid": "8b9dde22-3bef-4d41-803a-737b0f0edb3e",
     "showTitle": false,
     "title": ""
    }
   },
   "outputs": [],
   "source": [
    "snowflake_table = (spark.read\n",
    "    .format(\"snowflake\")\n",
    "    .options(**options) #snowflake connection properties are stored in options as described above\n",
    "    .option('dbtable',\"salemast\")\n",
    "    .load()\n",
    ")"
   ]
  },
  {
   "cell_type": "code",
   "execution_count": 0,
   "metadata": {
    "application/vnd.databricks.v1+cell": {
     "cellMetadata": {
      "byteLimit": 2048000,
      "rowLimit": 10000
     },
     "inputWidgets": {},
     "nuid": "5bb7e22b-3b73-434b-bf7c-fdf477d14095",
     "showTitle": false,
     "title": ""
    }
   },
   "outputs": [
    {
     "output_type": "display_data",
     "data": {
      "text/html": [
       "<style scoped>\n",
       "  .table-result-container {\n",
       "    max-height: 300px;\n",
       "    overflow: auto;\n",
       "  }\n",
       "  table, th, td {\n",
       "    border: 1px solid black;\n",
       "    border-collapse: collapse;\n",
       "  }\n",
       "  th, td {\n",
       "    padding: 5px;\n",
       "  }\n",
       "  th {\n",
       "    text-align: left;\n",
       "  }\n",
       "</style><div class='table-result-container'><table class='table-result'><thead style='background-color: white'><tr><th>SALE_ID</th><th>EMPLOYEE_ID</th><th>SALE_DATE</th><th>SALE_AMT</th></tr></thead><tbody><tr><td>1</td><td>1000</td><td>2012-03-08</td><td>4500</td></tr><tr><td>2</td><td>1001</td><td>2012-03-09</td><td>5500</td></tr><tr><td>3</td><td>1003</td><td>2012-04-10</td><td>3500</td></tr><tr><td>3</td><td>1003</td><td>2012-04-10</td><td>2500</td></tr></tbody></table></div>"
      ]
     },
     "metadata": {
      "application/vnd.databricks.v1+output": {
       "addedWidgets": {},
       "aggData": [],
       "aggError": "",
       "aggOverflow": false,
       "aggSchema": [],
       "aggSeriesLimitReached": false,
       "aggType": "",
       "arguments": {},
       "columnCustomDisplayInfos": {},
       "data": [
        [
         "1",
         "1000",
         "2012-03-08",
         "4500"
        ],
        [
         "2",
         "1001",
         "2012-03-09",
         "5500"
        ],
        [
         "3",
         "1003",
         "2012-04-10",
         "3500"
        ],
        [
         "3",
         "1003",
         "2012-04-10",
         "2500"
        ]
       ],
       "datasetInfos": [],
       "dbfsResultPath": null,
       "isJsonSchema": true,
       "metadata": {},
       "overflow": false,
       "plotOptions": {
        "customPlotOptions": {},
        "displayType": "table",
        "pivotAggregation": null,
        "pivotColumns": null,
        "xColumns": null,
        "yColumns": null
       },
       "removedWidgets": [],
       "schema": [
        {
         "metadata": "{}",
         "name": "SALE_ID",
         "type": "\"decimal(38,0)\""
        },
        {
         "metadata": "{}",
         "name": "EMPLOYEE_ID",
         "type": "\"decimal(38,0)\""
        },
        {
         "metadata": "{}",
         "name": "SALE_DATE",
         "type": "\"date\""
        },
        {
         "metadata": "{}",
         "name": "SALE_AMT",
         "type": "\"decimal(38,0)\""
        }
       ],
       "type": "table"
      }
     },
     "output_type": "display_data"
    }
   ],
   "source": [
    "display(snowflake_table)"
   ]
  },
  {
   "cell_type": "code",
   "execution_count": 0,
   "metadata": {
    "application/vnd.databricks.v1+cell": {
     "cellMetadata": {
      "byteLimit": 2048000,
      "rowLimit": 10000
     },
     "inputWidgets": {},
     "nuid": "2cb489ae-8659-4c6f-9973-a1a1adb7bfe0",
     "showTitle": false,
     "title": ""
    }
   },
   "outputs": [
    {
     "output_type": "stream",
     "name": "stdout",
     "output_type": "stream",
     "text": [
      "root\n |-- SALE_ID: decimal(38,0) (nullable = true)\n |-- EMPLOYEE_ID: decimal(38,0) (nullable = true)\n |-- SALE_DATE: date (nullable = true)\n |-- SALE_AMT: decimal(38,0) (nullable = true)\n\n"
     ]
    }
   ],
   "source": [
    "snowflake_table.printSchema()"
   ]
  },
  {
   "cell_type": "markdown",
   "metadata": {
    "application/vnd.databricks.v1+cell": {
     "cellMetadata": {
      "byteLimit": 2048000,
      "rowLimit": 10000
     },
     "inputWidgets": {},
     "nuid": "086da5d6-3e72-4753-a5c3-a872d20e7932",
     "showTitle": false,
     "title": ""
    }
   },
   "source": [
    "#### Transform\n",
    "I have shown here just a little transformation but you can extend these as you need"
   ]
  },
  {
   "cell_type": "code",
   "execution_count": 0,
   "metadata": {
    "application/vnd.databricks.v1+cell": {
     "cellMetadata": {
      "byteLimit": 2048000,
      "rowLimit": 10000
     },
     "inputWidgets": {},
     "nuid": "0330b91d-86c8-4044-aeb2-a8b31e16227b",
     "showTitle": false,
     "title": ""
    }
   },
   "outputs": [
    {
     "output_type": "stream",
     "name": "stdout",
     "output_type": "stream",
     "text": [
      "root\n |-- SALE_ID: integer (nullable = true)\n |-- EMPLOYEE_ID: decimal(38,0) (nullable = true)\n |-- SALE_DATE: date (nullable = true)\n |-- SALE_AMT: decimal(38,0) (nullable = true)\n\n"
     ]
    }
   ],
   "source": [
    "snowflake_table = snowflake_table.withColumn(\"SALE_ID\",snowflake_table[\"SALE_ID\"].cast('int'))\n",
    "snowflake_table.printSchema()"
   ]
  },
  {
   "cell_type": "markdown",
   "metadata": {
    "application/vnd.databricks.v1+cell": {
     "cellMetadata": {},
     "inputWidgets": {},
     "nuid": "172d08fe-8810-4a28-ac6d-8124d718d394",
     "showTitle": false,
     "title": ""
    }
   },
   "source": [
    "#### Write\n",
    "I'm writing a dummy data to snowflake but you can always"
   ]
  },
  {
   "cell_type": "code",
   "execution_count": 0,
   "metadata": {
    "application/vnd.databricks.v1+cell": {
     "cellMetadata": {
      "byteLimit": 2048000,
      "rowLimit": 10000
     },
     "inputWidgets": {},
     "nuid": "42627857-1248-4fbb-86cf-7b74a1c822e0",
     "showTitle": false,
     "title": ""
    }
   },
   "outputs": [],
   "source": [
    "spark.range(5).write \\\n",
    "    .format(\"snowflake\") \\\n",
    "    .options(**options) \\\n",
    "    .option(\"dbtable\",\"dummy\") \\\n",
    "    .save()"
   ]
  },
  {
   "cell_type": "code",
   "execution_count": 0,
   "metadata": {
    "application/vnd.databricks.v1+cell": {
     "cellMetadata": {
      "byteLimit": 2048000,
      "rowLimit": 10000
     },
     "inputWidgets": {},
     "nuid": "6e550185-7fca-4956-a069-6e75a8f2aa9f",
     "showTitle": false,
     "title": ""
    }
   },
   "outputs": [],
   "source": [
    "dummy = spark.read \\\n",
    "    .format(\"snowflake\") \\\n",
    "    .options(**options) \\\n",
    "    .option(\"dbtable\",\"dummy\") \\\n",
    "    .load()"
   ]
  },
  {
   "cell_type": "code",
   "execution_count": 0,
   "metadata": {
    "application/vnd.databricks.v1+cell": {
     "cellMetadata": {
      "byteLimit": 2048000,
      "rowLimit": 10000
     },
     "inputWidgets": {},
     "nuid": "548d6874-371c-4f91-a154-9eecb91719b2",
     "showTitle": false,
     "title": ""
    }
   },
   "outputs": [
    {
     "output_type": "display_data",
     "data": {
      "text/html": [
       "<style scoped>\n",
       "  .table-result-container {\n",
       "    max-height: 300px;\n",
       "    overflow: auto;\n",
       "  }\n",
       "  table, th, td {\n",
       "    border: 1px solid black;\n",
       "    border-collapse: collapse;\n",
       "  }\n",
       "  th, td {\n",
       "    padding: 5px;\n",
       "  }\n",
       "  th {\n",
       "    text-align: left;\n",
       "  }\n",
       "</style><div class='table-result-container'><table class='table-result'><thead style='background-color: white'><tr><th>ID</th></tr></thead><tbody><tr><td>0</td></tr><tr><td>4</td></tr><tr><td>3</td></tr><tr><td>1</td></tr><tr><td>2</td></tr></tbody></table></div>"
      ]
     },
     "metadata": {
      "application/vnd.databricks.v1+output": {
       "addedWidgets": {},
       "aggData": [],
       "aggError": "",
       "aggOverflow": false,
       "aggSchema": [],
       "aggSeriesLimitReached": false,
       "aggType": "",
       "arguments": {},
       "columnCustomDisplayInfos": {},
       "data": [
        [
         "0"
        ],
        [
         "4"
        ],
        [
         "3"
        ],
        [
         "1"
        ],
        [
         "2"
        ]
       ],
       "datasetInfos": [],
       "dbfsResultPath": null,
       "isJsonSchema": true,
       "metadata": {},
       "overflow": false,
       "plotOptions": {
        "customPlotOptions": {},
        "displayType": "table",
        "pivotAggregation": null,
        "pivotColumns": null,
        "xColumns": null,
        "yColumns": null
       },
       "removedWidgets": [],
       "schema": [
        {
         "metadata": "{}",
         "name": "ID",
         "type": "\"decimal(38,0)\""
        }
       ],
       "type": "table"
      }
     },
     "output_type": "display_data"
    }
   ],
   "source": [
    "display(dummy)"
   ]
  },
  {
   "cell_type": "markdown",
   "metadata": {
    "application/vnd.databricks.v1+cell": {
     "cellMetadata": {},
     "inputWidgets": {},
     "nuid": "fb0d23c2-fff8-4ede-87e5-9fd4bd496da2",
     "showTitle": false,
     "title": ""
    }
   },
   "source": [
    "#### Write and read to Delta table"
   ]
  },
  {
   "cell_type": "code",
   "execution_count": 0,
   "metadata": {
    "application/vnd.databricks.v1+cell": {
     "cellMetadata": {
      "byteLimit": 2048000,
      "rowLimit": 10000
     },
     "inputWidgets": {},
     "nuid": "f4403560-a7fb-4bab-8e5a-01a159f7a017",
     "showTitle": false,
     "title": ""
    }
   },
   "outputs": [],
   "source": [
    "dummy.write.format(\"delta\").saveAsTable(\"sf_ingest_table\")"
   ]
  },
  {
   "cell_type": "code",
   "execution_count": 0,
   "metadata": {
    "application/vnd.databricks.v1+cell": {
     "cellMetadata": {
      "byteLimit": 2048000,
      "rowLimit": 10000
     },
     "inputWidgets": {},
     "nuid": "30b80442-0247-4b2f-831e-ed2cb531e0b2",
     "showTitle": false,
     "title": ""
    }
   },
   "outputs": [],
   "source": [
    "df = spark.read.table(\"sf_ingest_table\")"
   ]
  },
  {
   "cell_type": "code",
   "execution_count": 0,
   "metadata": {
    "application/vnd.databricks.v1+cell": {
     "cellMetadata": {
      "byteLimit": 2048000,
      "rowLimit": 10000
     },
     "inputWidgets": {},
     "nuid": "6b8792b6-6259-4006-b784-3ee79991a8fa",
     "showTitle": false,
     "title": ""
    }
   },
   "outputs": [
    {
     "output_type": "display_data",
     "data": {
      "text/html": [
       "<style scoped>\n",
       "  .table-result-container {\n",
       "    max-height: 300px;\n",
       "    overflow: auto;\n",
       "  }\n",
       "  table, th, td {\n",
       "    border: 1px solid black;\n",
       "    border-collapse: collapse;\n",
       "  }\n",
       "  th, td {\n",
       "    padding: 5px;\n",
       "  }\n",
       "  th {\n",
       "    text-align: left;\n",
       "  }\n",
       "</style><div class='table-result-container'><table class='table-result'><thead style='background-color: white'><tr><th>ID</th></tr></thead><tbody><tr><td>0</td></tr><tr><td>4</td></tr><tr><td>3</td></tr><tr><td>1</td></tr><tr><td>2</td></tr></tbody></table></div>"
      ]
     },
     "metadata": {
      "application/vnd.databricks.v1+output": {
       "addedWidgets": {},
       "aggData": [],
       "aggError": "",
       "aggOverflow": false,
       "aggSchema": [],
       "aggSeriesLimitReached": false,
       "aggType": "",
       "arguments": {},
       "columnCustomDisplayInfos": {},
       "data": [
        [
         "0"
        ],
        [
         "4"
        ],
        [
         "3"
        ],
        [
         "1"
        ],
        [
         "2"
        ]
       ],
       "datasetInfos": [],
       "dbfsResultPath": null,
       "isJsonSchema": true,
       "metadata": {},
       "overflow": false,
       "plotOptions": {
        "customPlotOptions": {},
        "displayType": "table",
        "pivotAggregation": null,
        "pivotColumns": null,
        "xColumns": null,
        "yColumns": null
       },
       "removedWidgets": [],
       "schema": [
        {
         "metadata": "{}",
         "name": "ID",
         "type": "\"decimal(38,0)\""
        }
       ],
       "type": "table"
      }
     },
     "output_type": "display_data"
    }
   ],
   "source": [
    "display(df)"
   ]
  },
  {
   "cell_type": "code",
   "execution_count": 0,
   "metadata": {
    "application/vnd.databricks.v1+cell": {
     "cellMetadata": {},
     "inputWidgets": {},
     "nuid": "2131180e-64b2-4ac6-9884-c936bb87cdc8",
     "showTitle": false,
     "title": ""
    }
   },
   "outputs": [],
   "source": []
  }
 ],
 "metadata": {
  "application/vnd.databricks.v1+notebook": {
   "dashboards": [],
   "language": "python",
   "notebookMetadata": {
    "mostRecentlyExecutedCommandWithImplicitDF": {
     "commandId": -1,
     "dataframes": [
      "_sqldf"
     ]
    },
    "pythonIndentUnit": 4
   },
   "notebookName": "Databricks_Snowflake",
   "widgets": {}
  }
 },
 "nbformat": 4,
 "nbformat_minor": 0
}
